{
 "cells": [
  {
   "cell_type": "markdown",
   "metadata": {},
   "source": [
    "<center>\n",
    "    <img src=\"https://cf-courses-data.s3.us.cloud-object-storage.appdomain.cloud/IBMDeveloperSkillsNetwork-DS0105EN-SkillsNetwork/labs/Module2/images/SN_web_lightmode.png\" width=\"300\" alt=\"cognitiveclass.ai logo\">\n",
    "</center>\n"
   ]
  },
  {
   "cell_type": "markdown",
   "metadata": {},
   "source": [
    "#### Add your code below following the instructions given in the course\n"
   ]
  },
  {
   "cell_type": "code",
   "execution_count": null,
   "metadata": {},
   "outputs": [],
   "source": [
    "# Proyecto Final: Ciencia de Datos"
   ]
  },
  {
   "cell_type": "code",
   "execution_count": null,
   "metadata": {},
   "outputs": [],
   "source": [
    "## Introducción\n",
    "\n",
    "Este cuaderno contiene una serie de ejercicios que demuestran el uso de herramientas y técnicas esenciales en Ciencia de Datos. A través de estos ejercicios, exploraremos los lenguajes, bibliotecas y herramientas que son fundamentales para cualquier científico de datos."
   ]
  },
  {
   "cell_type": "code",
   "execution_count": null,
   "metadata": {},
   "outputs": [],
   "source": [
    "## Lenguajes de la Ciencia de Datos\n",
    "\n",
    "1. Python\n",
    "2. R\n",
    "3. SQL\n",
    "4. Julia\n",
    "5. Scala"
   ]
  },
  {
   "cell_type": "code",
   "execution_count": null,
   "metadata": {},
   "outputs": [],
   "source": [
    "## Bibliotecas de Ciencia de Datos\n",
    "\n",
    "- **Pandas**: Manipulación y análisis de datos.\n",
    "- **NumPy**: Cálculos numéricos y matrices.\n",
    "- **Scikit-learn**: Modelos de aprendizaje automático.\n",
    "- **Matplotlib**: Visualización de datos.\n",
    "- **TensorFlow**: Framework para Deep Learning.\n",
    "- *## Herramientas de Ciencia de Datos\n"
   ]
  },
  {
   "cell_type": "code",
   "execution_count": null,
   "metadata": {},
   "outputs": [],
   "source": [
    "## Herramientas de Ciencia de Datos\n",
    "\n",
    "| Herramienta        | Descripción                                       |\n",
    "|--------------------|---------------------------------------------------|\n",
    "| Jupyter Notebooks  | Entorno interactivo para escribir y ejecutar código. |\n",
    "| RStudio            | IDE para el lenguaje R.                          |\n",
    "| Tableau            | Herramienta de visualización de datos.            |\n",
    "| Apache Spark       | Framework para procesamiento de grandes volúmenes de datos. |\n",
    "| GitHub             | Plataforma para control de versiones y colaboración. |"
   ]
  },
  {
   "cell_type": "code",
   "execution_count": null,
   "metadata": {},
   "outputs": [],
   "source": [
    "## Ejemplos de Expresiones Aritméticas\n",
    "\n",
    "Algunos ejemplos de expresiones aritméticas en Python son:\n",
    "\n",
    "- Suma: `5 + 3 = 8`\n",
    "- Resta: `10 - 2 = 8`\n",
    "- Multiplicación: `4 * 6 = 24`\n",
    "- División: `20 / 5 = 4`\n",
    "- Exponentes: `2 ** 3 = 8`"
   ]
  },
  {
   "cell_type": "code",
   "execution_count": null,
   "metadata": {},
   "outputs": [],
   "source": [
    "# Multiplicación y suma\n",
    "numero1 = 5\n",
    "numero2 = 3\n",
    "\n",
    "# Multiplicación\n",
    "resultado_multiplicacion = numero1 * numero2\n",
    "print(f\"Resultado de la multiplicación: {resultado_multiplicacion}\")\n",
    "\n",
    "# Suma\n",
    "resultado_suma = numero1 + numero2\n",
    "print(f\"Resultado de la suma: {resultado_suma}\")"
   ]
  },
  {
   "cell_type": "code",
   "execution_count": 1,
   "metadata": {},
   "outputs": [
    {
     "name": "stdout",
     "output_type": "stream",
     "text": [
      "120 minutos son 2.0 horas.\n"
     ]
    }
   ],
   "source": [
    "# Conversión de minutos a horas\n",
    "minutos = 120\n",
    "horas = minutos / 60\n",
    "print(f\"{minutos} minutos son {horas} horas.\")"
   ]
  },
  {
   "cell_type": "code",
   "execution_count": 2,
   "metadata": {},
   "outputs": [
    {
     "name": "stdout",
     "output_type": "stream",
     "text": [
      "- Aprender sobre lenguajes y herramientas de Ciencia de Datos\n",
      "- Dominar el uso de bibliotecas como Pandas y NumPy\n",
      "- Implementar modelos de aprendizaje automático\n",
      "- Visualizar datos utilizando Matplotlib\n"
     ]
    }
   ],
   "source": [
    "# Objetivos del proyecto\n",
    "objetivos = [\"Aprender sobre lenguajes y herramientas de Ciencia de Datos\", \n",
    "             \"Dominar el uso de bibliotecas como Pandas y NumPy\", \n",
    "             \"Implementar modelos de aprendizaje automático\", \n",
    "             \"Visualizar datos utilizando Matplotlib\"]\n",
    "\n",
    "# Imprimir objetivos\n",
    "for objetivo in objetivos:\n",
    "    print(f\"- {objetivo}\")"
   ]
  },
  {
   "cell_type": "code",
   "execution_count": null,
   "metadata": {},
   "outputs": [],
   "source": [
    "## Autor\n",
    "\n",
    "Este cuaderno fue creado por [Oswaldo Quiroz]."
   ]
  }
 ],
 "metadata": {
  "kernelspec": {
   "display_name": "Python 3 (ipykernel)",
   "language": "python",
   "name": "python3"
  },
  "language_info": {
   "codemirror_mode": {
    "name": "ipython",
    "version": 3
   },
   "file_extension": ".py",
   "mimetype": "text/x-python",
   "name": "python",
   "nbconvert_exporter": "python",
   "pygments_lexer": "ipython3",
   "version": "3.11.9"
  }
 },
 "nbformat": 4,
 "nbformat_minor": 4
}
